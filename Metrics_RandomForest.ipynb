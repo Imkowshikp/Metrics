{
 "cells": [
  {
   "cell_type": "markdown",
   "id": "e4794268",
   "metadata": {},
   "source": [
    "# Kowshik P\n",
    "\n",
    "## Random Forest Regression - Metrics Assignment on 18-Apr-2022"
   ]
  },
  {
   "cell_type": "code",
   "execution_count": 1,
   "id": "a3f9e5d7",
   "metadata": {},
   "outputs": [],
   "source": [
    "import pandas as pd;\n",
    "import numpy as np;\n",
    "import matplotlib.pyplot as mat;"
   ]
  },
  {
   "cell_type": "code",
   "execution_count": 2,
   "id": "e845c5ed",
   "metadata": {},
   "outputs": [
    {
     "data": {
      "text/html": [
       "<div>\n",
       "<style scoped>\n",
       "    .dataframe tbody tr th:only-of-type {\n",
       "        vertical-align: middle;\n",
       "    }\n",
       "\n",
       "    .dataframe tbody tr th {\n",
       "        vertical-align: top;\n",
       "    }\n",
       "\n",
       "    .dataframe thead th {\n",
       "        text-align: right;\n",
       "    }\n",
       "</style>\n",
       "<table border=\"1\" class=\"dataframe\">\n",
       "  <thead>\n",
       "    <tr style=\"text-align: right;\">\n",
       "      <th></th>\n",
       "      <th>age</th>\n",
       "      <th>sex</th>\n",
       "      <th>bmi</th>\n",
       "      <th>children</th>\n",
       "      <th>smoker</th>\n",
       "      <th>charges</th>\n",
       "    </tr>\n",
       "  </thead>\n",
       "  <tbody>\n",
       "    <tr>\n",
       "      <th>0</th>\n",
       "      <td>19</td>\n",
       "      <td>female</td>\n",
       "      <td>27.900</td>\n",
       "      <td>0</td>\n",
       "      <td>yes</td>\n",
       "      <td>16884.92400</td>\n",
       "    </tr>\n",
       "    <tr>\n",
       "      <th>1</th>\n",
       "      <td>18</td>\n",
       "      <td>male</td>\n",
       "      <td>33.770</td>\n",
       "      <td>1</td>\n",
       "      <td>no</td>\n",
       "      <td>1725.55230</td>\n",
       "    </tr>\n",
       "    <tr>\n",
       "      <th>2</th>\n",
       "      <td>28</td>\n",
       "      <td>male</td>\n",
       "      <td>33.000</td>\n",
       "      <td>3</td>\n",
       "      <td>no</td>\n",
       "      <td>4449.46200</td>\n",
       "    </tr>\n",
       "    <tr>\n",
       "      <th>3</th>\n",
       "      <td>33</td>\n",
       "      <td>male</td>\n",
       "      <td>22.705</td>\n",
       "      <td>0</td>\n",
       "      <td>no</td>\n",
       "      <td>21984.47061</td>\n",
       "    </tr>\n",
       "    <tr>\n",
       "      <th>4</th>\n",
       "      <td>32</td>\n",
       "      <td>male</td>\n",
       "      <td>28.880</td>\n",
       "      <td>0</td>\n",
       "      <td>no</td>\n",
       "      <td>3866.85520</td>\n",
       "    </tr>\n",
       "    <tr>\n",
       "      <th>...</th>\n",
       "      <td>...</td>\n",
       "      <td>...</td>\n",
       "      <td>...</td>\n",
       "      <td>...</td>\n",
       "      <td>...</td>\n",
       "      <td>...</td>\n",
       "    </tr>\n",
       "    <tr>\n",
       "      <th>1333</th>\n",
       "      <td>50</td>\n",
       "      <td>male</td>\n",
       "      <td>30.970</td>\n",
       "      <td>3</td>\n",
       "      <td>no</td>\n",
       "      <td>10600.54830</td>\n",
       "    </tr>\n",
       "    <tr>\n",
       "      <th>1334</th>\n",
       "      <td>18</td>\n",
       "      <td>female</td>\n",
       "      <td>31.920</td>\n",
       "      <td>0</td>\n",
       "      <td>no</td>\n",
       "      <td>2205.98080</td>\n",
       "    </tr>\n",
       "    <tr>\n",
       "      <th>1335</th>\n",
       "      <td>18</td>\n",
       "      <td>female</td>\n",
       "      <td>36.850</td>\n",
       "      <td>0</td>\n",
       "      <td>no</td>\n",
       "      <td>1629.83350</td>\n",
       "    </tr>\n",
       "    <tr>\n",
       "      <th>1336</th>\n",
       "      <td>21</td>\n",
       "      <td>female</td>\n",
       "      <td>25.800</td>\n",
       "      <td>0</td>\n",
       "      <td>no</td>\n",
       "      <td>2007.94500</td>\n",
       "    </tr>\n",
       "    <tr>\n",
       "      <th>1337</th>\n",
       "      <td>61</td>\n",
       "      <td>female</td>\n",
       "      <td>29.070</td>\n",
       "      <td>0</td>\n",
       "      <td>yes</td>\n",
       "      <td>29141.36030</td>\n",
       "    </tr>\n",
       "  </tbody>\n",
       "</table>\n",
       "<p>1338 rows × 6 columns</p>\n",
       "</div>"
      ],
      "text/plain": [
       "      age     sex     bmi  children smoker      charges\n",
       "0      19  female  27.900         0    yes  16884.92400\n",
       "1      18    male  33.770         1     no   1725.55230\n",
       "2      28    male  33.000         3     no   4449.46200\n",
       "3      33    male  22.705         0     no  21984.47061\n",
       "4      32    male  28.880         0     no   3866.85520\n",
       "...   ...     ...     ...       ...    ...          ...\n",
       "1333   50    male  30.970         3     no  10600.54830\n",
       "1334   18  female  31.920         0     no   2205.98080\n",
       "1335   18  female  36.850         0     no   1629.83350\n",
       "1336   21  female  25.800         0     no   2007.94500\n",
       "1337   61  female  29.070         0    yes  29141.36030\n",
       "\n",
       "[1338 rows x 6 columns]"
      ]
     },
     "execution_count": 2,
     "metadata": {},
     "output_type": "execute_result"
    }
   ],
   "source": [
    "informationSlot = pd.read_csv(\"insurance_pre.csv\");\n",
    "\n",
    "informationSlot"
   ]
  },
  {
   "cell_type": "code",
   "execution_count": 3,
   "id": "e28a55ee",
   "metadata": {},
   "outputs": [
    {
     "data": {
      "text/plain": [
       "(1338, 6)"
      ]
     },
     "execution_count": 3,
     "metadata": {},
     "output_type": "execute_result"
    }
   ],
   "source": [
    "informationSlot.shape"
   ]
  },
  {
   "cell_type": "code",
   "execution_count": 4,
   "id": "434b2924",
   "metadata": {},
   "outputs": [
    {
     "data": {
      "text/html": [
       "<div>\n",
       "<style scoped>\n",
       "    .dataframe tbody tr th:only-of-type {\n",
       "        vertical-align: middle;\n",
       "    }\n",
       "\n",
       "    .dataframe tbody tr th {\n",
       "        vertical-align: top;\n",
       "    }\n",
       "\n",
       "    .dataframe thead th {\n",
       "        text-align: right;\n",
       "    }\n",
       "</style>\n",
       "<table border=\"1\" class=\"dataframe\">\n",
       "  <thead>\n",
       "    <tr style=\"text-align: right;\">\n",
       "      <th></th>\n",
       "      <th>age</th>\n",
       "      <th>bmi</th>\n",
       "      <th>children</th>\n",
       "      <th>charges</th>\n",
       "      <th>sex_male</th>\n",
       "      <th>smoker_yes</th>\n",
       "    </tr>\n",
       "  </thead>\n",
       "  <tbody>\n",
       "    <tr>\n",
       "      <th>0</th>\n",
       "      <td>19</td>\n",
       "      <td>27.900</td>\n",
       "      <td>0</td>\n",
       "      <td>16884.92400</td>\n",
       "      <td>0</td>\n",
       "      <td>1</td>\n",
       "    </tr>\n",
       "    <tr>\n",
       "      <th>1</th>\n",
       "      <td>18</td>\n",
       "      <td>33.770</td>\n",
       "      <td>1</td>\n",
       "      <td>1725.55230</td>\n",
       "      <td>1</td>\n",
       "      <td>0</td>\n",
       "    </tr>\n",
       "    <tr>\n",
       "      <th>2</th>\n",
       "      <td>28</td>\n",
       "      <td>33.000</td>\n",
       "      <td>3</td>\n",
       "      <td>4449.46200</td>\n",
       "      <td>1</td>\n",
       "      <td>0</td>\n",
       "    </tr>\n",
       "    <tr>\n",
       "      <th>3</th>\n",
       "      <td>33</td>\n",
       "      <td>22.705</td>\n",
       "      <td>0</td>\n",
       "      <td>21984.47061</td>\n",
       "      <td>1</td>\n",
       "      <td>0</td>\n",
       "    </tr>\n",
       "    <tr>\n",
       "      <th>4</th>\n",
       "      <td>32</td>\n",
       "      <td>28.880</td>\n",
       "      <td>0</td>\n",
       "      <td>3866.85520</td>\n",
       "      <td>1</td>\n",
       "      <td>0</td>\n",
       "    </tr>\n",
       "    <tr>\n",
       "      <th>...</th>\n",
       "      <td>...</td>\n",
       "      <td>...</td>\n",
       "      <td>...</td>\n",
       "      <td>...</td>\n",
       "      <td>...</td>\n",
       "      <td>...</td>\n",
       "    </tr>\n",
       "    <tr>\n",
       "      <th>1333</th>\n",
       "      <td>50</td>\n",
       "      <td>30.970</td>\n",
       "      <td>3</td>\n",
       "      <td>10600.54830</td>\n",
       "      <td>1</td>\n",
       "      <td>0</td>\n",
       "    </tr>\n",
       "    <tr>\n",
       "      <th>1334</th>\n",
       "      <td>18</td>\n",
       "      <td>31.920</td>\n",
       "      <td>0</td>\n",
       "      <td>2205.98080</td>\n",
       "      <td>0</td>\n",
       "      <td>0</td>\n",
       "    </tr>\n",
       "    <tr>\n",
       "      <th>1335</th>\n",
       "      <td>18</td>\n",
       "      <td>36.850</td>\n",
       "      <td>0</td>\n",
       "      <td>1629.83350</td>\n",
       "      <td>0</td>\n",
       "      <td>0</td>\n",
       "    </tr>\n",
       "    <tr>\n",
       "      <th>1336</th>\n",
       "      <td>21</td>\n",
       "      <td>25.800</td>\n",
       "      <td>0</td>\n",
       "      <td>2007.94500</td>\n",
       "      <td>0</td>\n",
       "      <td>0</td>\n",
       "    </tr>\n",
       "    <tr>\n",
       "      <th>1337</th>\n",
       "      <td>61</td>\n",
       "      <td>29.070</td>\n",
       "      <td>0</td>\n",
       "      <td>29141.36030</td>\n",
       "      <td>0</td>\n",
       "      <td>1</td>\n",
       "    </tr>\n",
       "  </tbody>\n",
       "</table>\n",
       "<p>1338 rows × 6 columns</p>\n",
       "</div>"
      ],
      "text/plain": [
       "      age     bmi  children      charges  sex_male  smoker_yes\n",
       "0      19  27.900         0  16884.92400         0           1\n",
       "1      18  33.770         1   1725.55230         1           0\n",
       "2      28  33.000         3   4449.46200         1           0\n",
       "3      33  22.705         0  21984.47061         1           0\n",
       "4      32  28.880         0   3866.85520         1           0\n",
       "...   ...     ...       ...          ...       ...         ...\n",
       "1333   50  30.970         3  10600.54830         1           0\n",
       "1334   18  31.920         0   2205.98080         0           0\n",
       "1335   18  36.850         0   1629.83350         0           0\n",
       "1336   21  25.800         0   2007.94500         0           0\n",
       "1337   61  29.070         0  29141.36030         0           1\n",
       "\n",
       "[1338 rows x 6 columns]"
      ]
     },
     "execution_count": 4,
     "metadata": {},
     "output_type": "execute_result"
    }
   ],
   "source": [
    "informationSlot = pd.get_dummies(informationSlot, drop_first = True);\n",
    "\n",
    "informationSlot"
   ]
  },
  {
   "cell_type": "code",
   "execution_count": 5,
   "id": "959a31c6",
   "metadata": {},
   "outputs": [
    {
     "data": {
      "text/html": [
       "<div>\n",
       "<style scoped>\n",
       "    .dataframe tbody tr th:only-of-type {\n",
       "        vertical-align: middle;\n",
       "    }\n",
       "\n",
       "    .dataframe tbody tr th {\n",
       "        vertical-align: top;\n",
       "    }\n",
       "\n",
       "    .dataframe thead th {\n",
       "        text-align: right;\n",
       "    }\n",
       "</style>\n",
       "<table border=\"1\" class=\"dataframe\">\n",
       "  <thead>\n",
       "    <tr style=\"text-align: right;\">\n",
       "      <th></th>\n",
       "      <th>age</th>\n",
       "      <th>bmi</th>\n",
       "      <th>children</th>\n",
       "      <th>sex_male</th>\n",
       "      <th>smoker_yes</th>\n",
       "    </tr>\n",
       "  </thead>\n",
       "  <tbody>\n",
       "    <tr>\n",
       "      <th>0</th>\n",
       "      <td>19</td>\n",
       "      <td>27.900</td>\n",
       "      <td>0</td>\n",
       "      <td>0</td>\n",
       "      <td>1</td>\n",
       "    </tr>\n",
       "    <tr>\n",
       "      <th>1</th>\n",
       "      <td>18</td>\n",
       "      <td>33.770</td>\n",
       "      <td>1</td>\n",
       "      <td>1</td>\n",
       "      <td>0</td>\n",
       "    </tr>\n",
       "    <tr>\n",
       "      <th>2</th>\n",
       "      <td>28</td>\n",
       "      <td>33.000</td>\n",
       "      <td>3</td>\n",
       "      <td>1</td>\n",
       "      <td>0</td>\n",
       "    </tr>\n",
       "    <tr>\n",
       "      <th>3</th>\n",
       "      <td>33</td>\n",
       "      <td>22.705</td>\n",
       "      <td>0</td>\n",
       "      <td>1</td>\n",
       "      <td>0</td>\n",
       "    </tr>\n",
       "    <tr>\n",
       "      <th>4</th>\n",
       "      <td>32</td>\n",
       "      <td>28.880</td>\n",
       "      <td>0</td>\n",
       "      <td>1</td>\n",
       "      <td>0</td>\n",
       "    </tr>\n",
       "    <tr>\n",
       "      <th>...</th>\n",
       "      <td>...</td>\n",
       "      <td>...</td>\n",
       "      <td>...</td>\n",
       "      <td>...</td>\n",
       "      <td>...</td>\n",
       "    </tr>\n",
       "    <tr>\n",
       "      <th>1333</th>\n",
       "      <td>50</td>\n",
       "      <td>30.970</td>\n",
       "      <td>3</td>\n",
       "      <td>1</td>\n",
       "      <td>0</td>\n",
       "    </tr>\n",
       "    <tr>\n",
       "      <th>1334</th>\n",
       "      <td>18</td>\n",
       "      <td>31.920</td>\n",
       "      <td>0</td>\n",
       "      <td>0</td>\n",
       "      <td>0</td>\n",
       "    </tr>\n",
       "    <tr>\n",
       "      <th>1335</th>\n",
       "      <td>18</td>\n",
       "      <td>36.850</td>\n",
       "      <td>0</td>\n",
       "      <td>0</td>\n",
       "      <td>0</td>\n",
       "    </tr>\n",
       "    <tr>\n",
       "      <th>1336</th>\n",
       "      <td>21</td>\n",
       "      <td>25.800</td>\n",
       "      <td>0</td>\n",
       "      <td>0</td>\n",
       "      <td>0</td>\n",
       "    </tr>\n",
       "    <tr>\n",
       "      <th>1337</th>\n",
       "      <td>61</td>\n",
       "      <td>29.070</td>\n",
       "      <td>0</td>\n",
       "      <td>0</td>\n",
       "      <td>1</td>\n",
       "    </tr>\n",
       "  </tbody>\n",
       "</table>\n",
       "<p>1338 rows × 5 columns</p>\n",
       "</div>"
      ],
      "text/plain": [
       "      age     bmi  children  sex_male  smoker_yes\n",
       "0      19  27.900         0         0           1\n",
       "1      18  33.770         1         1           0\n",
       "2      28  33.000         3         1           0\n",
       "3      33  22.705         0         1           0\n",
       "4      32  28.880         0         1           0\n",
       "...   ...     ...       ...       ...         ...\n",
       "1333   50  30.970         3         1           0\n",
       "1334   18  31.920         0         0           0\n",
       "1335   18  36.850         0         0           0\n",
       "1336   21  25.800         0         0           0\n",
       "1337   61  29.070         0         0           1\n",
       "\n",
       "[1338 rows x 5 columns]"
      ]
     },
     "execution_count": 5,
     "metadata": {},
     "output_type": "execute_result"
    }
   ],
   "source": [
    "independentData = informationSlot[[\"age\", \"bmi\", \"children\", \"sex_male\", \"smoker_yes\"]];\n",
    "\n",
    "independentData"
   ]
  },
  {
   "cell_type": "code",
   "execution_count": 6,
   "id": "2ed671f5",
   "metadata": {},
   "outputs": [
    {
     "data": {
      "text/html": [
       "<div>\n",
       "<style scoped>\n",
       "    .dataframe tbody tr th:only-of-type {\n",
       "        vertical-align: middle;\n",
       "    }\n",
       "\n",
       "    .dataframe tbody tr th {\n",
       "        vertical-align: top;\n",
       "    }\n",
       "\n",
       "    .dataframe thead th {\n",
       "        text-align: right;\n",
       "    }\n",
       "</style>\n",
       "<table border=\"1\" class=\"dataframe\">\n",
       "  <thead>\n",
       "    <tr style=\"text-align: right;\">\n",
       "      <th></th>\n",
       "      <th>charges</th>\n",
       "    </tr>\n",
       "  </thead>\n",
       "  <tbody>\n",
       "    <tr>\n",
       "      <th>0</th>\n",
       "      <td>16884.92400</td>\n",
       "    </tr>\n",
       "    <tr>\n",
       "      <th>1</th>\n",
       "      <td>1725.55230</td>\n",
       "    </tr>\n",
       "    <tr>\n",
       "      <th>2</th>\n",
       "      <td>4449.46200</td>\n",
       "    </tr>\n",
       "    <tr>\n",
       "      <th>3</th>\n",
       "      <td>21984.47061</td>\n",
       "    </tr>\n",
       "    <tr>\n",
       "      <th>4</th>\n",
       "      <td>3866.85520</td>\n",
       "    </tr>\n",
       "    <tr>\n",
       "      <th>...</th>\n",
       "      <td>...</td>\n",
       "    </tr>\n",
       "    <tr>\n",
       "      <th>1333</th>\n",
       "      <td>10600.54830</td>\n",
       "    </tr>\n",
       "    <tr>\n",
       "      <th>1334</th>\n",
       "      <td>2205.98080</td>\n",
       "    </tr>\n",
       "    <tr>\n",
       "      <th>1335</th>\n",
       "      <td>1629.83350</td>\n",
       "    </tr>\n",
       "    <tr>\n",
       "      <th>1336</th>\n",
       "      <td>2007.94500</td>\n",
       "    </tr>\n",
       "    <tr>\n",
       "      <th>1337</th>\n",
       "      <td>29141.36030</td>\n",
       "    </tr>\n",
       "  </tbody>\n",
       "</table>\n",
       "<p>1338 rows × 1 columns</p>\n",
       "</div>"
      ],
      "text/plain": [
       "          charges\n",
       "0     16884.92400\n",
       "1      1725.55230\n",
       "2      4449.46200\n",
       "3     21984.47061\n",
       "4      3866.85520\n",
       "...           ...\n",
       "1333  10600.54830\n",
       "1334   2205.98080\n",
       "1335   1629.83350\n",
       "1336   2007.94500\n",
       "1337  29141.36030\n",
       "\n",
       "[1338 rows x 1 columns]"
      ]
     },
     "execution_count": 6,
     "metadata": {},
     "output_type": "execute_result"
    }
   ],
   "source": [
    "dependentData = informationSlot[[\"charges\"]];\n",
    "\n",
    "dependentData"
   ]
  },
  {
   "cell_type": "code",
   "execution_count": 30,
   "id": "87fd9199",
   "metadata": {},
   "outputs": [],
   "source": [
    "from sklearn.model_selection import train_test_split;\n",
    "\n",
    "x_train, x_test, y_train, y_test = train_test_split(independentData, dependentData, test_size = 1/3, random_state = 6);"
   ]
  },
  {
   "cell_type": "code",
   "execution_count": 31,
   "id": "fe0f7595",
   "metadata": {},
   "outputs": [],
   "source": [
    "from sklearn.preprocessing import StandardScaler;\n",
    "\n",
    "standardization = StandardScaler();\n",
    "\n",
    "x_train = standardization.fit_transform(x_train);\n",
    "\n",
    "x_test = standardization.transform(x_test);\n"
   ]
  },
  {
   "cell_type": "code",
   "execution_count": null,
   "id": "53d1f733",
   "metadata": {},
   "outputs": [],
   "source": [
    "x_train"
   ]
  },
  {
   "cell_type": "code",
   "execution_count": null,
   "id": "c3932eb6",
   "metadata": {},
   "outputs": [],
   "source": [
    "x_test"
   ]
  },
  {
   "cell_type": "code",
   "execution_count": null,
   "id": "fdee693c",
   "metadata": {},
   "outputs": [],
   "source": [
    "y_train"
   ]
  },
  {
   "cell_type": "code",
   "execution_count": null,
   "id": "faa81d85",
   "metadata": {},
   "outputs": [],
   "source": [
    "y_test"
   ]
  },
  {
   "cell_type": "code",
   "execution_count": 36,
   "id": "20fc1036",
   "metadata": {},
   "outputs": [
    {
     "name": "stdout",
     "output_type": "stream",
     "text": [
      "Fitting 5 folds for each of 216 candidates, totalling 1080 fits\n"
     ]
    },
    {
     "name": "stderr",
     "output_type": "stream",
     "text": [
      "C:\\Users\\hp\\Anaconda3\\envs\\virtualml\\lib\\site-packages\\sklearn\\model_selection\\_search.py:926: DataConversionWarning: A column-vector y was passed when a 1d array was expected. Please change the shape of y to (n_samples,), for example using ravel().\n",
      "  self.best_estimator_.fit(X, y, **fit_params)\n",
      "C:\\Users\\hp\\Anaconda3\\envs\\virtualml\\lib\\site-packages\\sklearn\\ensemble\\_forest.py:407: FutureWarning: Criterion 'mae' was deprecated in v1.0 and will be removed in version 1.2. Use `criterion='absolute_error'` which is equivalent.\n",
      "  FutureWarning,\n"
     ]
    }
   ],
   "source": [
    "from sklearn.ensemble import RandomForestRegressor;\n",
    "\n",
    "from sklearn.model_selection import GridSearchCV;\n",
    "\n",
    "#param_grid = {\"n_estimators\":[10, 20, 30, 40, 50, 60, 70, 80, 90, 100], \"criterion\":[\"mse\",\"mae\"], \n",
    "     #         \"min_samples_split\": [1, 2, 3, 4, 5, 10, 20, 30, 40, 50, 60, 70, 80, 90, 100], \n",
    "      #        \"max_depth\":[1, 2, 3, 4, 5, 10, 20, 30, 40, 50, 60, 70, 80, 90, 100], \n",
    "     #         \"min_samples_leaf\":[1, 2, 4, 5, 10, 20, 30, 40, 50, 60, 70, 80, 90, 100], \n",
    "        #      \"max_features\":[\"auto”, “sqrt”, “log2\"], \"bootstrap\":[True, False], \"oob_score\":[True, False],\n",
    "     #          \"random_state\":[0, 1, 2, 3, 4, 5, 6, 7, 8, 9, 10],\n",
    "      #      \"warm_start\":[True, False], \"max_samples\":[0.1, 1.0, 10]}\n",
    "        \n",
    "parameter_grid = {\"criterion\":[\"mse\",\"mae\"], \n",
    "                       \"max_features\" :[\"auto\", \"sqrt\", \"log2\"],\n",
    "                  \"max_depth\":[10, 50, 80], \"min_samples_split\":[10, 50, 80],\n",
    "                  \"n_estimators\": [10, 100], \"bootstrap\":[True, False]}\n",
    "   \n",
    "\n",
    "gridCV = GridSearchCV(RandomForestRegressor(), parameter_grid, refit = True, verbose = 3, n_jobs=-1); \n",
    "\n",
    "gridCV.fit(x_train, y_train);\n"
   ]
  },
  {
   "cell_type": "code",
   "execution_count": null,
   "id": "c6de5292",
   "metadata": {},
   "outputs": [],
   "source": [
    "#from sklearn.svm import SVR;\n",
    "\n",
    "#regressor = SVR(kernel = \"linear\", C = 10000);\n",
    "\n",
    "#regressor.fit(x_train, y_train);\n",
    "\n",
    "#regressor"
   ]
  },
  {
   "cell_type": "code",
   "execution_count": null,
   "id": "d9592800",
   "metadata": {},
   "outputs": [],
   "source": [
    "#weight = regressor.coef_;\n",
    "\n",
    "#weight"
   ]
  },
  {
   "cell_type": "code",
   "execution_count": null,
   "id": "c72f7d38",
   "metadata": {},
   "outputs": [],
   "source": [
    "#bias = regressor.intercept_;\n",
    "\n",
    "#bias"
   ]
  },
  {
   "cell_type": "code",
   "execution_count": 37,
   "id": "3a4bd4f6",
   "metadata": {},
   "outputs": [],
   "source": [
    "y_pred = gridCV.predict(x_test);"
   ]
  },
  {
   "cell_type": "code",
   "execution_count": null,
   "id": "8c96472a",
   "metadata": {},
   "outputs": [],
   "source": []
  },
  {
   "cell_type": "markdown",
   "id": "df01cb22",
   "metadata": {},
   "source": [
    "# 1. Metric(R2_Score) \n",
    "\n",
    "## if the value of \"r\" nearly to 1 then that is \"Good performence\".\n",
    "\n",
    "## if the value of \"r\" nearly to 0 then that is \"Poor performence\".\n"
   ]
  },
  {
   "cell_type": "code",
   "execution_count": 38,
   "id": "72d86a07",
   "metadata": {},
   "outputs": [
    {
     "data": {
      "text/plain": [
       "0.8884404233254942"
      ]
     },
     "execution_count": 38,
     "metadata": {},
     "output_type": "execute_result"
    }
   ],
   "source": [
    "from sklearn.metrics import r2_score;\n",
    "\n",
    "metricRandomForest_1 = r2_score(y_test, y_pred);\n",
    "\n",
    "metricRandomForest_1"
   ]
  },
  {
   "cell_type": "markdown",
   "id": "b29ff618",
   "metadata": {},
   "source": [
    "# 2. Metric(explained_variance_score) \n",
    "\n",
    "## if the value of nearly to 1 then that is \"Good performence\".\n",
    "\n",
    "## if the value of nearly to 0 then that is \"Poor performence\"."
   ]
  },
  {
   "cell_type": "code",
   "execution_count": 39,
   "id": "75e06530",
   "metadata": {},
   "outputs": [
    {
     "data": {
      "text/plain": [
       "0.888442865849355"
      ]
     },
     "execution_count": 39,
     "metadata": {},
     "output_type": "execute_result"
    }
   ],
   "source": [
    "from sklearn.metrics import explained_variance_score;\n",
    "\n",
    "metricRandomForest_2 = explained_variance_score(y_test, y_pred);\n",
    "\n",
    "metricRandomForest_2"
   ]
  },
  {
   "cell_type": "markdown",
   "id": "627b42a1",
   "metadata": {},
   "source": [
    "# 3. Metric(max_error) \n",
    "\n",
    "## A positive floating point value (the best value is 0.0).\n"
   ]
  },
  {
   "cell_type": "code",
   "execution_count": 40,
   "id": "b3c6aa12",
   "metadata": {},
   "outputs": [
    {
     "data": {
      "text/plain": [
       "25569.209336249998"
      ]
     },
     "execution_count": 40,
     "metadata": {},
     "output_type": "execute_result"
    }
   ],
   "source": [
    "from sklearn.metrics import max_error;\n",
    "\n",
    "metricRandomForest_3 = max_error(y_test, y_pred);\n",
    "\n",
    "metricRandomForest_3"
   ]
  },
  {
   "cell_type": "markdown",
   "id": "54eacea8",
   "metadata": {},
   "source": [
    "# 4. Metric(mean_absolute_error) \n",
    "\n",
    "## MAE output is non-negative floating point. The best value is 0.0.\n"
   ]
  },
  {
   "cell_type": "code",
   "execution_count": 41,
   "id": "6846829a",
   "metadata": {},
   "outputs": [
    {
     "data": {
      "text/plain": [
       "1768.9348161674884"
      ]
     },
     "execution_count": 41,
     "metadata": {},
     "output_type": "execute_result"
    }
   ],
   "source": [
    "from sklearn.metrics import mean_absolute_error;\n",
    "\n",
    "metricRandomForest_4 = mean_absolute_error(y_test, y_pred);\n",
    "\n",
    "metricRandomForest_4"
   ]
  },
  {
   "cell_type": "markdown",
   "id": "f2589341",
   "metadata": {},
   "source": [
    "# 5. Metric(mean_squared_error) \n",
    "\n",
    "## A non-negative floating point value (the best value is 0.0).\n"
   ]
  },
  {
   "cell_type": "code",
   "execution_count": 42,
   "id": "346ed5f9",
   "metadata": {},
   "outputs": [
    {
     "data": {
      "text/plain": [
       "15563029.170159863"
      ]
     },
     "execution_count": 42,
     "metadata": {},
     "output_type": "execute_result"
    }
   ],
   "source": [
    "from sklearn.metrics import mean_squared_error;\n",
    "\n",
    "metricRandomForest_5 = mean_squared_error(y_test, y_pred);\n",
    "\n",
    "metricRandomForest_5"
   ]
  },
  {
   "cell_type": "markdown",
   "id": "facbfbfa",
   "metadata": {},
   "source": [
    "# 6. Metric(mean_squared_error) \n",
    "\n",
    "## A non-negative floating point value (the best value is 0.0).\n"
   ]
  },
  {
   "cell_type": "code",
   "execution_count": 43,
   "id": "ee52c052",
   "metadata": {},
   "outputs": [
    {
     "data": {
      "text/plain": [
       "15563029.170159863"
      ]
     },
     "execution_count": 43,
     "metadata": {},
     "output_type": "execute_result"
    }
   ],
   "source": [
    "from sklearn.metrics import mean_squared_error;\n",
    "\n",
    "metricRandomForest_6 = mean_squared_error(y_test, y_pred);\n",
    "\n",
    "metricRandomForest_6"
   ]
  },
  {
   "cell_type": "code",
   "execution_count": null,
   "id": "4918e3ae",
   "metadata": {},
   "outputs": [],
   "source": []
  },
  {
   "cell_type": "code",
   "execution_count": null,
   "id": "3ae4e183",
   "metadata": {},
   "outputs": [],
   "source": [
    "#from sklearn.metrics import mean_squared_log_error;\n",
    "\n",
    "#import math;\n",
    "\n",
    "#def root_mean_squared_log_error(y_test, y_pred):\n",
    "#    sum = 0.0\n",
    " #   for xValue in range(len(y_pred)):\n",
    " #       if y_pred[xValue]<0 or y_test[xValue]<0:\n",
    "   #         continue\n",
    "  #      predicted = np.log(y_pred[xValue]+1)\n",
    "  #      actual = np.log(y_test[xValue]+1)\n",
    "\n",
    "  #  return (sum/len(y_pred))**5\n",
    "\n",
    "\n",
    "\n",
    "\n",
    "#def normalize(x_test):\n",
    "  #  result = x_test.copy()\n",
    "   # for feature_name in x_test.columns:\n",
    "  #      max_value = x_test[feature_name].max()\n",
    "   #     min_value = x_test[feature_name].min()\n",
    "   #     result [feature_name] = (x_test[feature_name]-min_value) / (max_value-min_value)\n",
    "  #  return result\n",
    "\n",
    "\n",
    "\n",
    "\n",
    "\n",
    "\n"
   ]
  },
  {
   "cell_type": "markdown",
   "id": "96c997f2",
   "metadata": {},
   "source": [
    "# 7. Metric(median_absolute_error) \n",
    "\n",
    "## Median absolute error output is non-negative floating point. The best value is 0.0."
   ]
  },
  {
   "cell_type": "code",
   "execution_count": 44,
   "id": "0170ce9d",
   "metadata": {},
   "outputs": [
    {
     "data": {
      "text/plain": [
       "632.9470454749944"
      ]
     },
     "execution_count": 44,
     "metadata": {},
     "output_type": "execute_result"
    }
   ],
   "source": [
    "from sklearn.metrics import median_absolute_error;\n",
    "\n",
    "metricRandomForest_7 = median_absolute_error(y_test, y_pred);\n",
    "\n",
    "metricRandomForest_7"
   ]
  },
  {
   "cell_type": "markdown",
   "id": "d9e02c67",
   "metadata": {},
   "source": [
    "# 8. Metric(mean_squared_log_error) \n",
    "\n",
    "## A non-negative floating point value (the best value is 0.0)."
   ]
  },
  {
   "cell_type": "code",
   "execution_count": 45,
   "id": "afd67a77",
   "metadata": {},
   "outputs": [
    {
     "data": {
      "text/plain": [
       "0.14303164249524367"
      ]
     },
     "execution_count": 45,
     "metadata": {},
     "output_type": "execute_result"
    }
   ],
   "source": [
    "from sklearn.metrics import mean_squared_log_error;\n",
    "\n",
    "metricRandomForest_8 = mean_squared_log_error(y_test, y_pred);\n",
    "\n",
    "metricRandomForest_8\n"
   ]
  },
  {
   "cell_type": "markdown",
   "id": "cfa32e12",
   "metadata": {},
   "source": [
    "# 9. Metric(mean_poisson_deviance) \n",
    "\n",
    "## A non-negative floating point value (the best value is 0.0)."
   ]
  },
  {
   "cell_type": "code",
   "execution_count": 46,
   "id": "5f453f10",
   "metadata": {},
   "outputs": [
    {
     "data": {
      "text/plain": [
       "1593.1877492985186"
      ]
     },
     "execution_count": 46,
     "metadata": {},
     "output_type": "execute_result"
    }
   ],
   "source": [
    "from sklearn.metrics import mean_poisson_deviance\n",
    "\n",
    "metricRandomForest_9 = mean_poisson_deviance(y_test, y_pred)\n",
    "\n",
    "metricRandomForest_9"
   ]
  },
  {
   "cell_type": "markdown",
   "id": "3483c521",
   "metadata": {},
   "source": [
    "# 10. Metric(mean_gamma_deviance) \n",
    "\n",
    "## A non-negative floating point value (the best value is 0.0)."
   ]
  },
  {
   "cell_type": "code",
   "execution_count": 47,
   "id": "780a9be3",
   "metadata": {},
   "outputs": [
    {
     "data": {
      "text/plain": [
       "0.27471212985196425"
      ]
     },
     "execution_count": 47,
     "metadata": {},
     "output_type": "execute_result"
    }
   ],
   "source": [
    "from sklearn.metrics import mean_gamma_deviance;\n",
    "\n",
    "metricRandomForest_10 = mean_gamma_deviance(y_test, y_pred);\n",
    "\n",
    "metricRandomForest_10\n"
   ]
  },
  {
   "cell_type": "markdown",
   "id": "8aedef9f",
   "metadata": {},
   "source": [
    "# 11. Metric(mean_absolute_percentage_error) \n",
    "\n",
    "## MAPE output is non-negative floating point. The best value is 0.0."
   ]
  },
  {
   "cell_type": "code",
   "execution_count": 48,
   "id": "9becf6e3",
   "metadata": {},
   "outputs": [
    {
     "data": {
      "text/plain": [
       "0.16836932609961788"
      ]
     },
     "execution_count": 48,
     "metadata": {},
     "output_type": "execute_result"
    }
   ],
   "source": [
    "from sklearn.metrics import mean_absolute_percentage_error;\n",
    "\n",
    "metricRandomForest_11 = mean_absolute_percentage_error(y_test, y_pred);\n",
    "\n",
    "metricRandomForest_11"
   ]
  },
  {
   "cell_type": "markdown",
   "id": "c06ee427",
   "metadata": {},
   "source": [
    "# 12. Metric(mean_tweedie_deviance - power: 1) \n",
    "\n",
    "## A non-negative floating point value (the best value is 0.0)."
   ]
  },
  {
   "cell_type": "code",
   "execution_count": 49,
   "id": "6c950f9e",
   "metadata": {},
   "outputs": [
    {
     "data": {
      "text/plain": [
       "1593.1877492985186"
      ]
     },
     "execution_count": 49,
     "metadata": {},
     "output_type": "execute_result"
    }
   ],
   "source": [
    "from sklearn.metrics import mean_tweedie_deviance;\n",
    "\n",
    "metricRandomForest_12 = mean_tweedie_deviance(y_test, y_pred, power = 1);\n",
    "\n",
    "metricRandomForest_12"
   ]
  },
  {
   "cell_type": "markdown",
   "id": "b0ff0489",
   "metadata": {},
   "source": [
    "# 13. Metric(mean_tweedie_deviance - power: 2) \n",
    "\n",
    "## A non-negative floating point value (the best value is 0.0)."
   ]
  },
  {
   "cell_type": "code",
   "execution_count": 50,
   "id": "6ef4ea71",
   "metadata": {},
   "outputs": [
    {
     "data": {
      "text/plain": [
       "0.27471212985196425"
      ]
     },
     "execution_count": 50,
     "metadata": {},
     "output_type": "execute_result"
    }
   ],
   "source": [
    "from sklearn.metrics import mean_tweedie_deviance;\n",
    "\n",
    "metricRandomForest_13 = mean_tweedie_deviance(y_test, y_pred, power = 2);\n",
    "\n",
    "metricRandomForest_13"
   ]
  },
  {
   "cell_type": "markdown",
   "id": "a5b86a9a",
   "metadata": {},
   "source": [
    "# 14. Metric(mean_tweedie_deviance - power: 0) \n",
    "\n",
    "## A non-negative floating point value (the best value is 0.0)."
   ]
  },
  {
   "cell_type": "code",
   "execution_count": 51,
   "id": "11931a29",
   "metadata": {},
   "outputs": [
    {
     "data": {
      "text/plain": [
       "15563029.170159863"
      ]
     },
     "execution_count": 51,
     "metadata": {},
     "output_type": "execute_result"
    }
   ],
   "source": [
    "from sklearn.metrics import mean_tweedie_deviance;\n",
    "\n",
    "metricRandomForest_14 = mean_tweedie_deviance(y_test, y_pred, power = 0);\n",
    "\n",
    "metricRandomForest_14"
   ]
  }
 ],
 "metadata": {
  "kernelspec": {
   "display_name": "Python 3 (ipykernel)",
   "language": "python",
   "name": "python3"
  },
  "language_info": {
   "codemirror_mode": {
    "name": "ipython",
    "version": 3
   },
   "file_extension": ".py",
   "mimetype": "text/x-python",
   "name": "python",
   "nbconvert_exporter": "python",
   "pygments_lexer": "ipython3",
   "version": "3.7.6"
  }
 },
 "nbformat": 4,
 "nbformat_minor": 5
}
