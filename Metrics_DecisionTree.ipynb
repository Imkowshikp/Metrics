{
 "cells": [
  {
   "cell_type": "markdown",
   "id": "4e3774cc",
   "metadata": {},
   "source": [
    "# Kowshik P\n",
    "\n",
    "## Decision Tree Regression - Metrics Assignment on 18-Apr-2022"
   ]
  },
  {
   "cell_type": "code",
   "execution_count": 2,
   "id": "a3f9e5d7",
   "metadata": {},
   "outputs": [],
   "source": [
    "import pandas as pd;\n",
    "import numpy as np;\n",
    "import matplotlib.pyplot as mat;"
   ]
  },
  {
   "cell_type": "code",
   "execution_count": 3,
   "id": "e845c5ed",
   "metadata": {},
   "outputs": [
    {
     "data": {
      "text/html": [
       "<div>\n",
       "<style scoped>\n",
       "    .dataframe tbody tr th:only-of-type {\n",
       "        vertical-align: middle;\n",
       "    }\n",
       "\n",
       "    .dataframe tbody tr th {\n",
       "        vertical-align: top;\n",
       "    }\n",
       "\n",
       "    .dataframe thead th {\n",
       "        text-align: right;\n",
       "    }\n",
       "</style>\n",
       "<table border=\"1\" class=\"dataframe\">\n",
       "  <thead>\n",
       "    <tr style=\"text-align: right;\">\n",
       "      <th></th>\n",
       "      <th>age</th>\n",
       "      <th>sex</th>\n",
       "      <th>bmi</th>\n",
       "      <th>children</th>\n",
       "      <th>smoker</th>\n",
       "      <th>charges</th>\n",
       "    </tr>\n",
       "  </thead>\n",
       "  <tbody>\n",
       "    <tr>\n",
       "      <th>0</th>\n",
       "      <td>19</td>\n",
       "      <td>female</td>\n",
       "      <td>27.900</td>\n",
       "      <td>0</td>\n",
       "      <td>yes</td>\n",
       "      <td>16884.92400</td>\n",
       "    </tr>\n",
       "    <tr>\n",
       "      <th>1</th>\n",
       "      <td>18</td>\n",
       "      <td>male</td>\n",
       "      <td>33.770</td>\n",
       "      <td>1</td>\n",
       "      <td>no</td>\n",
       "      <td>1725.55230</td>\n",
       "    </tr>\n",
       "    <tr>\n",
       "      <th>2</th>\n",
       "      <td>28</td>\n",
       "      <td>male</td>\n",
       "      <td>33.000</td>\n",
       "      <td>3</td>\n",
       "      <td>no</td>\n",
       "      <td>4449.46200</td>\n",
       "    </tr>\n",
       "    <tr>\n",
       "      <th>3</th>\n",
       "      <td>33</td>\n",
       "      <td>male</td>\n",
       "      <td>22.705</td>\n",
       "      <td>0</td>\n",
       "      <td>no</td>\n",
       "      <td>21984.47061</td>\n",
       "    </tr>\n",
       "    <tr>\n",
       "      <th>4</th>\n",
       "      <td>32</td>\n",
       "      <td>male</td>\n",
       "      <td>28.880</td>\n",
       "      <td>0</td>\n",
       "      <td>no</td>\n",
       "      <td>3866.85520</td>\n",
       "    </tr>\n",
       "    <tr>\n",
       "      <th>...</th>\n",
       "      <td>...</td>\n",
       "      <td>...</td>\n",
       "      <td>...</td>\n",
       "      <td>...</td>\n",
       "      <td>...</td>\n",
       "      <td>...</td>\n",
       "    </tr>\n",
       "    <tr>\n",
       "      <th>1333</th>\n",
       "      <td>50</td>\n",
       "      <td>male</td>\n",
       "      <td>30.970</td>\n",
       "      <td>3</td>\n",
       "      <td>no</td>\n",
       "      <td>10600.54830</td>\n",
       "    </tr>\n",
       "    <tr>\n",
       "      <th>1334</th>\n",
       "      <td>18</td>\n",
       "      <td>female</td>\n",
       "      <td>31.920</td>\n",
       "      <td>0</td>\n",
       "      <td>no</td>\n",
       "      <td>2205.98080</td>\n",
       "    </tr>\n",
       "    <tr>\n",
       "      <th>1335</th>\n",
       "      <td>18</td>\n",
       "      <td>female</td>\n",
       "      <td>36.850</td>\n",
       "      <td>0</td>\n",
       "      <td>no</td>\n",
       "      <td>1629.83350</td>\n",
       "    </tr>\n",
       "    <tr>\n",
       "      <th>1336</th>\n",
       "      <td>21</td>\n",
       "      <td>female</td>\n",
       "      <td>25.800</td>\n",
       "      <td>0</td>\n",
       "      <td>no</td>\n",
       "      <td>2007.94500</td>\n",
       "    </tr>\n",
       "    <tr>\n",
       "      <th>1337</th>\n",
       "      <td>61</td>\n",
       "      <td>female</td>\n",
       "      <td>29.070</td>\n",
       "      <td>0</td>\n",
       "      <td>yes</td>\n",
       "      <td>29141.36030</td>\n",
       "    </tr>\n",
       "  </tbody>\n",
       "</table>\n",
       "<p>1338 rows × 6 columns</p>\n",
       "</div>"
      ],
      "text/plain": [
       "      age     sex     bmi  children smoker      charges\n",
       "0      19  female  27.900         0    yes  16884.92400\n",
       "1      18    male  33.770         1     no   1725.55230\n",
       "2      28    male  33.000         3     no   4449.46200\n",
       "3      33    male  22.705         0     no  21984.47061\n",
       "4      32    male  28.880         0     no   3866.85520\n",
       "...   ...     ...     ...       ...    ...          ...\n",
       "1333   50    male  30.970         3     no  10600.54830\n",
       "1334   18  female  31.920         0     no   2205.98080\n",
       "1335   18  female  36.850         0     no   1629.83350\n",
       "1336   21  female  25.800         0     no   2007.94500\n",
       "1337   61  female  29.070         0    yes  29141.36030\n",
       "\n",
       "[1338 rows x 6 columns]"
      ]
     },
     "execution_count": 3,
     "metadata": {},
     "output_type": "execute_result"
    }
   ],
   "source": [
    "informationSlot = pd.read_csv(\"insurance_pre.csv\");\n",
    "\n",
    "informationSlot"
   ]
  },
  {
   "cell_type": "code",
   "execution_count": 4,
   "id": "e28a55ee",
   "metadata": {},
   "outputs": [
    {
     "data": {
      "text/plain": [
       "(1338, 6)"
      ]
     },
     "execution_count": 4,
     "metadata": {},
     "output_type": "execute_result"
    }
   ],
   "source": [
    "informationSlot.shape"
   ]
  },
  {
   "cell_type": "code",
   "execution_count": 5,
   "id": "434b2924",
   "metadata": {},
   "outputs": [
    {
     "data": {
      "text/html": [
       "<div>\n",
       "<style scoped>\n",
       "    .dataframe tbody tr th:only-of-type {\n",
       "        vertical-align: middle;\n",
       "    }\n",
       "\n",
       "    .dataframe tbody tr th {\n",
       "        vertical-align: top;\n",
       "    }\n",
       "\n",
       "    .dataframe thead th {\n",
       "        text-align: right;\n",
       "    }\n",
       "</style>\n",
       "<table border=\"1\" class=\"dataframe\">\n",
       "  <thead>\n",
       "    <tr style=\"text-align: right;\">\n",
       "      <th></th>\n",
       "      <th>age</th>\n",
       "      <th>bmi</th>\n",
       "      <th>children</th>\n",
       "      <th>charges</th>\n",
       "      <th>sex_male</th>\n",
       "      <th>smoker_yes</th>\n",
       "    </tr>\n",
       "  </thead>\n",
       "  <tbody>\n",
       "    <tr>\n",
       "      <th>0</th>\n",
       "      <td>19</td>\n",
       "      <td>27.900</td>\n",
       "      <td>0</td>\n",
       "      <td>16884.92400</td>\n",
       "      <td>0</td>\n",
       "      <td>1</td>\n",
       "    </tr>\n",
       "    <tr>\n",
       "      <th>1</th>\n",
       "      <td>18</td>\n",
       "      <td>33.770</td>\n",
       "      <td>1</td>\n",
       "      <td>1725.55230</td>\n",
       "      <td>1</td>\n",
       "      <td>0</td>\n",
       "    </tr>\n",
       "    <tr>\n",
       "      <th>2</th>\n",
       "      <td>28</td>\n",
       "      <td>33.000</td>\n",
       "      <td>3</td>\n",
       "      <td>4449.46200</td>\n",
       "      <td>1</td>\n",
       "      <td>0</td>\n",
       "    </tr>\n",
       "    <tr>\n",
       "      <th>3</th>\n",
       "      <td>33</td>\n",
       "      <td>22.705</td>\n",
       "      <td>0</td>\n",
       "      <td>21984.47061</td>\n",
       "      <td>1</td>\n",
       "      <td>0</td>\n",
       "    </tr>\n",
       "    <tr>\n",
       "      <th>4</th>\n",
       "      <td>32</td>\n",
       "      <td>28.880</td>\n",
       "      <td>0</td>\n",
       "      <td>3866.85520</td>\n",
       "      <td>1</td>\n",
       "      <td>0</td>\n",
       "    </tr>\n",
       "    <tr>\n",
       "      <th>...</th>\n",
       "      <td>...</td>\n",
       "      <td>...</td>\n",
       "      <td>...</td>\n",
       "      <td>...</td>\n",
       "      <td>...</td>\n",
       "      <td>...</td>\n",
       "    </tr>\n",
       "    <tr>\n",
       "      <th>1333</th>\n",
       "      <td>50</td>\n",
       "      <td>30.970</td>\n",
       "      <td>3</td>\n",
       "      <td>10600.54830</td>\n",
       "      <td>1</td>\n",
       "      <td>0</td>\n",
       "    </tr>\n",
       "    <tr>\n",
       "      <th>1334</th>\n",
       "      <td>18</td>\n",
       "      <td>31.920</td>\n",
       "      <td>0</td>\n",
       "      <td>2205.98080</td>\n",
       "      <td>0</td>\n",
       "      <td>0</td>\n",
       "    </tr>\n",
       "    <tr>\n",
       "      <th>1335</th>\n",
       "      <td>18</td>\n",
       "      <td>36.850</td>\n",
       "      <td>0</td>\n",
       "      <td>1629.83350</td>\n",
       "      <td>0</td>\n",
       "      <td>0</td>\n",
       "    </tr>\n",
       "    <tr>\n",
       "      <th>1336</th>\n",
       "      <td>21</td>\n",
       "      <td>25.800</td>\n",
       "      <td>0</td>\n",
       "      <td>2007.94500</td>\n",
       "      <td>0</td>\n",
       "      <td>0</td>\n",
       "    </tr>\n",
       "    <tr>\n",
       "      <th>1337</th>\n",
       "      <td>61</td>\n",
       "      <td>29.070</td>\n",
       "      <td>0</td>\n",
       "      <td>29141.36030</td>\n",
       "      <td>0</td>\n",
       "      <td>1</td>\n",
       "    </tr>\n",
       "  </tbody>\n",
       "</table>\n",
       "<p>1338 rows × 6 columns</p>\n",
       "</div>"
      ],
      "text/plain": [
       "      age     bmi  children      charges  sex_male  smoker_yes\n",
       "0      19  27.900         0  16884.92400         0           1\n",
       "1      18  33.770         1   1725.55230         1           0\n",
       "2      28  33.000         3   4449.46200         1           0\n",
       "3      33  22.705         0  21984.47061         1           0\n",
       "4      32  28.880         0   3866.85520         1           0\n",
       "...   ...     ...       ...          ...       ...         ...\n",
       "1333   50  30.970         3  10600.54830         1           0\n",
       "1334   18  31.920         0   2205.98080         0           0\n",
       "1335   18  36.850         0   1629.83350         0           0\n",
       "1336   21  25.800         0   2007.94500         0           0\n",
       "1337   61  29.070         0  29141.36030         0           1\n",
       "\n",
       "[1338 rows x 6 columns]"
      ]
     },
     "execution_count": 5,
     "metadata": {},
     "output_type": "execute_result"
    }
   ],
   "source": [
    "informationSlot = pd.get_dummies(informationSlot, drop_first = True);\n",
    "\n",
    "informationSlot"
   ]
  },
  {
   "cell_type": "code",
   "execution_count": 6,
   "id": "959a31c6",
   "metadata": {},
   "outputs": [
    {
     "data": {
      "text/html": [
       "<div>\n",
       "<style scoped>\n",
       "    .dataframe tbody tr th:only-of-type {\n",
       "        vertical-align: middle;\n",
       "    }\n",
       "\n",
       "    .dataframe tbody tr th {\n",
       "        vertical-align: top;\n",
       "    }\n",
       "\n",
       "    .dataframe thead th {\n",
       "        text-align: right;\n",
       "    }\n",
       "</style>\n",
       "<table border=\"1\" class=\"dataframe\">\n",
       "  <thead>\n",
       "    <tr style=\"text-align: right;\">\n",
       "      <th></th>\n",
       "      <th>age</th>\n",
       "      <th>bmi</th>\n",
       "      <th>children</th>\n",
       "      <th>sex_male</th>\n",
       "      <th>smoker_yes</th>\n",
       "    </tr>\n",
       "  </thead>\n",
       "  <tbody>\n",
       "    <tr>\n",
       "      <th>0</th>\n",
       "      <td>19</td>\n",
       "      <td>27.900</td>\n",
       "      <td>0</td>\n",
       "      <td>0</td>\n",
       "      <td>1</td>\n",
       "    </tr>\n",
       "    <tr>\n",
       "      <th>1</th>\n",
       "      <td>18</td>\n",
       "      <td>33.770</td>\n",
       "      <td>1</td>\n",
       "      <td>1</td>\n",
       "      <td>0</td>\n",
       "    </tr>\n",
       "    <tr>\n",
       "      <th>2</th>\n",
       "      <td>28</td>\n",
       "      <td>33.000</td>\n",
       "      <td>3</td>\n",
       "      <td>1</td>\n",
       "      <td>0</td>\n",
       "    </tr>\n",
       "    <tr>\n",
       "      <th>3</th>\n",
       "      <td>33</td>\n",
       "      <td>22.705</td>\n",
       "      <td>0</td>\n",
       "      <td>1</td>\n",
       "      <td>0</td>\n",
       "    </tr>\n",
       "    <tr>\n",
       "      <th>4</th>\n",
       "      <td>32</td>\n",
       "      <td>28.880</td>\n",
       "      <td>0</td>\n",
       "      <td>1</td>\n",
       "      <td>0</td>\n",
       "    </tr>\n",
       "    <tr>\n",
       "      <th>...</th>\n",
       "      <td>...</td>\n",
       "      <td>...</td>\n",
       "      <td>...</td>\n",
       "      <td>...</td>\n",
       "      <td>...</td>\n",
       "    </tr>\n",
       "    <tr>\n",
       "      <th>1333</th>\n",
       "      <td>50</td>\n",
       "      <td>30.970</td>\n",
       "      <td>3</td>\n",
       "      <td>1</td>\n",
       "      <td>0</td>\n",
       "    </tr>\n",
       "    <tr>\n",
       "      <th>1334</th>\n",
       "      <td>18</td>\n",
       "      <td>31.920</td>\n",
       "      <td>0</td>\n",
       "      <td>0</td>\n",
       "      <td>0</td>\n",
       "    </tr>\n",
       "    <tr>\n",
       "      <th>1335</th>\n",
       "      <td>18</td>\n",
       "      <td>36.850</td>\n",
       "      <td>0</td>\n",
       "      <td>0</td>\n",
       "      <td>0</td>\n",
       "    </tr>\n",
       "    <tr>\n",
       "      <th>1336</th>\n",
       "      <td>21</td>\n",
       "      <td>25.800</td>\n",
       "      <td>0</td>\n",
       "      <td>0</td>\n",
       "      <td>0</td>\n",
       "    </tr>\n",
       "    <tr>\n",
       "      <th>1337</th>\n",
       "      <td>61</td>\n",
       "      <td>29.070</td>\n",
       "      <td>0</td>\n",
       "      <td>0</td>\n",
       "      <td>1</td>\n",
       "    </tr>\n",
       "  </tbody>\n",
       "</table>\n",
       "<p>1338 rows × 5 columns</p>\n",
       "</div>"
      ],
      "text/plain": [
       "      age     bmi  children  sex_male  smoker_yes\n",
       "0      19  27.900         0         0           1\n",
       "1      18  33.770         1         1           0\n",
       "2      28  33.000         3         1           0\n",
       "3      33  22.705         0         1           0\n",
       "4      32  28.880         0         1           0\n",
       "...   ...     ...       ...       ...         ...\n",
       "1333   50  30.970         3         1           0\n",
       "1334   18  31.920         0         0           0\n",
       "1335   18  36.850         0         0           0\n",
       "1336   21  25.800         0         0           0\n",
       "1337   61  29.070         0         0           1\n",
       "\n",
       "[1338 rows x 5 columns]"
      ]
     },
     "execution_count": 6,
     "metadata": {},
     "output_type": "execute_result"
    }
   ],
   "source": [
    "independentData = informationSlot[[\"age\", \"bmi\", \"children\", \"sex_male\", \"smoker_yes\"]];\n",
    "\n",
    "independentData"
   ]
  },
  {
   "cell_type": "code",
   "execution_count": 7,
   "id": "2ed671f5",
   "metadata": {},
   "outputs": [
    {
     "data": {
      "text/html": [
       "<div>\n",
       "<style scoped>\n",
       "    .dataframe tbody tr th:only-of-type {\n",
       "        vertical-align: middle;\n",
       "    }\n",
       "\n",
       "    .dataframe tbody tr th {\n",
       "        vertical-align: top;\n",
       "    }\n",
       "\n",
       "    .dataframe thead th {\n",
       "        text-align: right;\n",
       "    }\n",
       "</style>\n",
       "<table border=\"1\" class=\"dataframe\">\n",
       "  <thead>\n",
       "    <tr style=\"text-align: right;\">\n",
       "      <th></th>\n",
       "      <th>charges</th>\n",
       "    </tr>\n",
       "  </thead>\n",
       "  <tbody>\n",
       "    <tr>\n",
       "      <th>0</th>\n",
       "      <td>16884.92400</td>\n",
       "    </tr>\n",
       "    <tr>\n",
       "      <th>1</th>\n",
       "      <td>1725.55230</td>\n",
       "    </tr>\n",
       "    <tr>\n",
       "      <th>2</th>\n",
       "      <td>4449.46200</td>\n",
       "    </tr>\n",
       "    <tr>\n",
       "      <th>3</th>\n",
       "      <td>21984.47061</td>\n",
       "    </tr>\n",
       "    <tr>\n",
       "      <th>4</th>\n",
       "      <td>3866.85520</td>\n",
       "    </tr>\n",
       "    <tr>\n",
       "      <th>...</th>\n",
       "      <td>...</td>\n",
       "    </tr>\n",
       "    <tr>\n",
       "      <th>1333</th>\n",
       "      <td>10600.54830</td>\n",
       "    </tr>\n",
       "    <tr>\n",
       "      <th>1334</th>\n",
       "      <td>2205.98080</td>\n",
       "    </tr>\n",
       "    <tr>\n",
       "      <th>1335</th>\n",
       "      <td>1629.83350</td>\n",
       "    </tr>\n",
       "    <tr>\n",
       "      <th>1336</th>\n",
       "      <td>2007.94500</td>\n",
       "    </tr>\n",
       "    <tr>\n",
       "      <th>1337</th>\n",
       "      <td>29141.36030</td>\n",
       "    </tr>\n",
       "  </tbody>\n",
       "</table>\n",
       "<p>1338 rows × 1 columns</p>\n",
       "</div>"
      ],
      "text/plain": [
       "          charges\n",
       "0     16884.92400\n",
       "1      1725.55230\n",
       "2      4449.46200\n",
       "3     21984.47061\n",
       "4      3866.85520\n",
       "...           ...\n",
       "1333  10600.54830\n",
       "1334   2205.98080\n",
       "1335   1629.83350\n",
       "1336   2007.94500\n",
       "1337  29141.36030\n",
       "\n",
       "[1338 rows x 1 columns]"
      ]
     },
     "execution_count": 7,
     "metadata": {},
     "output_type": "execute_result"
    }
   ],
   "source": [
    "dependentData = informationSlot[[\"charges\"]];\n",
    "\n",
    "dependentData"
   ]
  },
  {
   "cell_type": "code",
   "execution_count": 8,
   "id": "87fd9199",
   "metadata": {},
   "outputs": [],
   "source": [
    "from sklearn.model_selection import train_test_split;\n",
    "\n",
    "x_train, x_test, y_train, y_test = train_test_split(independentData, dependentData, test_size = 1/3, random_state = 0);"
   ]
  },
  {
   "cell_type": "code",
   "execution_count": 9,
   "id": "fe0f7595",
   "metadata": {},
   "outputs": [],
   "source": [
    "from sklearn.preprocessing import StandardScaler;\n",
    "\n",
    "standardization = StandardScaler();\n",
    "\n",
    "x_train = standardization.fit_transform(x_train);\n",
    "\n",
    "x_test = standardization.transform(x_test);\n"
   ]
  },
  {
   "cell_type": "code",
   "execution_count": null,
   "id": "53d1f733",
   "metadata": {},
   "outputs": [],
   "source": [
    "x_train"
   ]
  },
  {
   "cell_type": "code",
   "execution_count": null,
   "id": "c3932eb6",
   "metadata": {},
   "outputs": [],
   "source": [
    "x_test"
   ]
  },
  {
   "cell_type": "code",
   "execution_count": null,
   "id": "fdee693c",
   "metadata": {},
   "outputs": [],
   "source": [
    "y_train"
   ]
  },
  {
   "cell_type": "code",
   "execution_count": null,
   "id": "faa81d85",
   "metadata": {},
   "outputs": [],
   "source": [
    "y_test"
   ]
  },
  {
   "cell_type": "code",
   "execution_count": 13,
   "id": "20fc1036",
   "metadata": {},
   "outputs": [
    {
     "name": "stdout",
     "output_type": "stream",
     "text": [
      "Fitting 5 folds for each of 768 candidates, totalling 3840 fits\n"
     ]
    },
    {
     "name": "stderr",
     "output_type": "stream",
     "text": [
      "C:\\Users\\hp\\Anaconda3\\envs\\virtualml\\lib\\site-packages\\sklearn\\model_selection\\_validation.py:372: FitFailedWarning: \n",
      "960 fits failed out of a total of 3840.\n",
      "The score on these train-test partitions for these parameters will be set to nan.\n",
      "If these failures are not expected, you can try to debug them by setting error_score='raise'.\n",
      "\n",
      "Below are more details about the failures:\n",
      "--------------------------------------------------------------------------------\n",
      "960 fits failed with the following error:\n",
      "Traceback (most recent call last):\n",
      "  File \"C:\\Users\\hp\\Anaconda3\\envs\\virtualml\\lib\\site-packages\\sklearn\\model_selection\\_validation.py\", line 680, in _fit_and_score\n",
      "    estimator.fit(X_train, y_train, **fit_params)\n",
      "  File \"C:\\Users\\hp\\Anaconda3\\envs\\virtualml\\lib\\site-packages\\sklearn\\tree\\_classes.py\", line 1320, in fit\n",
      "    X_idx_sorted=X_idx_sorted,\n",
      "  File \"C:\\Users\\hp\\Anaconda3\\envs\\virtualml\\lib\\site-packages\\sklearn\\tree\\_classes.py\", line 316, in fit\n",
      "    max_leaf_nodes\n",
      "ValueError: max_leaf_nodes 1 must be either None or larger than 1\n",
      "\n",
      "  warnings.warn(some_fits_failed_message, FitFailedWarning)\n",
      "C:\\Users\\hp\\Anaconda3\\envs\\virtualml\\lib\\site-packages\\sklearn\\model_selection\\_search.py:972: UserWarning: One or more of the test scores are non-finite: [0.71796476 0.7724796  0.81472235 0.77747131 0.80620695 0.72388104\n",
      " 0.80695415 0.76124193        nan        nan        nan        nan\n",
      "        nan        nan        nan        nan 0.80118881 0.65684574\n",
      " 0.80118881 0.65775985 0.80141495 0.70132752 0.80141495 0.6744922\n",
      " 0.81701083 0.79271135 0.81947337 0.79576642 0.80802272 0.72573103\n",
      " 0.80721558 0.7073445  0.71087045 0.61303621 0.64776881 0.6568805\n",
      " 0.53536761 0.62797974 0.53800632 0.59445361        nan        nan\n",
      "        nan        nan        nan        nan        nan        nan\n",
      " 0.66993399 0.50834559 0.46501938 0.35087725 0.45658909 0.55998494\n",
      " 0.63419058 0.61264234 0.61386815 0.56831648 0.65306604 0.62104452\n",
      " 0.67428164 0.60151089 0.48101218 0.50099362 0.68826907 0.68303684\n",
      " 0.65718886 0.66333313 0.59329864 0.65043933 0.62622067 0.64054843\n",
      "        nan        nan        nan        nan        nan        nan\n",
      "        nan        nan 0.61729952 0.47565541 0.53318488 0.50425666\n",
      " 0.6509408  0.63434162 0.62140375 0.34008533 0.64864443 0.53292788\n",
      " 0.44415356 0.50756193 0.62143269 0.53796522 0.65282852 0.43431796\n",
      " 0.71877188 0.7867195  0.81472235 0.76576861 0.80620695 0.76116903\n",
      " 0.80695415 0.7661907         nan        nan        nan        nan\n",
      "        nan        nan        nan        nan 0.80118881 0.69167463\n",
      " 0.80118881 0.71126573 0.80141495 0.71143523 0.80141495 0.68292242\n",
      " 0.81701083 0.77553832 0.81947337 0.7581095  0.80802272 0.74687788\n",
      " 0.80721558 0.71627106 0.69392892 0.69293783 0.73616283 0.71334542\n",
      " 0.7453159  0.53997977 0.71317052 0.49363755        nan        nan\n",
      "        nan        nan        nan        nan        nan        nan\n",
      " 0.58584695 0.48264228 0.34297657 0.49796293 0.39919058 0.50657943\n",
      " 0.57322047 0.49250213 0.67200529 0.52929089 0.69620873 0.55651494\n",
      " 0.60852999 0.48590305 0.5375333  0.40251907 0.67316073 0.67580264\n",
      " 0.70494111 0.65004638 0.64819389 0.62449019 0.61526052 0.70936983\n",
      "        nan        nan        nan        nan        nan        nan\n",
      "        nan        nan 0.50800916 0.5213372  0.33475927 0.52292807\n",
      " 0.40010437 0.4612259  0.6197117  0.45669066 0.72223208 0.55301863\n",
      " 0.75021863 0.51127719 0.73700957 0.59886061 0.53797104 0.58844815\n",
      " 0.71796912 0.77912045 0.81472235 0.77866749 0.80620695 0.73297674\n",
      " 0.80695415 0.73622557        nan        nan        nan        nan\n",
      "        nan        nan        nan        nan 0.80118881 0.71187322\n",
      " 0.80118881 0.7163102  0.80141495 0.69854895 0.80141495 0.72240286\n",
      " 0.81701083 0.785176   0.81947337 0.76860009 0.80802272 0.75476438\n",
      " 0.80721558 0.74880982 0.73856492 0.6936807  0.68242766 0.68349733\n",
      " 0.6008917  0.64994007 0.67295656 0.60787823        nan        nan\n",
      "        nan        nan        nan        nan        nan        nan\n",
      " 0.58642515 0.26849533 0.54526922 0.58811982 0.20395242 0.68094846\n",
      " 0.50363288 0.56941997 0.6244185  0.56030268 0.64443676 0.47862248\n",
      " 0.65639459 0.46009792 0.66918131 0.56257495 0.70466386 0.74516536\n",
      " 0.39842558 0.69627889 0.73150273 0.64264368 0.48874025 0.61431166\n",
      "        nan        nan        nan        nan        nan        nan\n",
      "        nan        nan 0.4015508  0.43560168 0.53574533 0.49477571\n",
      " 0.40045447 0.45148792 0.46382046 0.61128943 0.68850086 0.58258566\n",
      " 0.59835845 0.65887594 0.46292474 0.65061706 0.66175943 0.63842672\n",
      " 0.71796912 0.79321065 0.81472235 0.77807143 0.80620695 0.73099555\n",
      " 0.80695415 0.7478377         nan        nan        nan        nan\n",
      "        nan        nan        nan        nan 0.80118881 0.70009456\n",
      " 0.80118881 0.69290711 0.80141495 0.72573771 0.80141495 0.71181154\n",
      " 0.81701083 0.76757311 0.81947337 0.77752122 0.80802272 0.74556624\n",
      " 0.80721558 0.75228964 0.72914372 0.70749763 0.67573258 0.62685176\n",
      " 0.59059754 0.56761186 0.60995667 0.62511351        nan        nan\n",
      "        nan        nan        nan        nan        nan        nan\n",
      " 0.61596445 0.54272139 0.58984337 0.48588511 0.64729211 0.55572135\n",
      " 0.52309492 0.42655879 0.73649268 0.50033406 0.60911401 0.64086755\n",
      " 0.58446369 0.59963116 0.66922648 0.59671009 0.72459863 0.6994698\n",
      " 0.7812517  0.68161315 0.576734   0.6099346  0.55796921 0.66014134\n",
      "        nan        nan        nan        nan        nan        nan\n",
      "        nan        nan 0.49047544 0.45813622 0.68158868 0.62778104\n",
      " 0.40882912 0.60296385 0.53885118 0.4105683  0.51271095 0.53460571\n",
      " 0.6819887  0.63204759 0.73448483 0.5610296  0.63917809 0.56814\n",
      " 0.75174356 0.75730334 0.8138506  0.76939829 0.80582378 0.77284063\n",
      " 0.80503424 0.71918193        nan        nan        nan        nan\n",
      "        nan        nan        nan        nan 0.7942503  0.68831232\n",
      " 0.7942503  0.64748323 0.7942503  0.70930303 0.7942503  0.66644798\n",
      " 0.81778826 0.71157567 0.81778826 0.70396399 0.80451715 0.78563327\n",
      " 0.80451715 0.67556567 0.69628036 0.67416521 0.69046705 0.50768183\n",
      " 0.50039797 0.54096521 0.47207384 0.55349976        nan        nan\n",
      "        nan        nan        nan        nan        nan        nan\n",
      " 0.4765038  0.40677046 0.42829037 0.53354935 0.37947449 0.41274844\n",
      " 0.37645793 0.35775656 0.62212753 0.34347831 0.56678446 0.25539954\n",
      " 0.52169671 0.37745888 0.53553502 0.51214899 0.72360439 0.67700737\n",
      " 0.62746106 0.68261901 0.57810795 0.54386741 0.45402544 0.5565933\n",
      "        nan        nan        nan        nan        nan        nan\n",
      "        nan        nan 0.64553646 0.57535695 0.52029979 0.36221367\n",
      " 0.55951716 0.24591721 0.28792846 0.39543538 0.54412832 0.54314079\n",
      " 0.6156242  0.44701757 0.54638241 0.51318711 0.56906082 0.47275143\n",
      " 0.75685796 0.77594006 0.8138506  0.74781724 0.80582378 0.68966953\n",
      " 0.80503424 0.74808145        nan        nan        nan        nan\n",
      "        nan        nan        nan        nan 0.7942503  0.65158245\n",
      " 0.7942503  0.69377139 0.7942503  0.64586433 0.7942503  0.66727922\n",
      " 0.81778826 0.69516038 0.81778826 0.74438662 0.80451715 0.69516941\n",
      " 0.80451715 0.68415231 0.74419327 0.60623344 0.64631156 0.66365393\n",
      " 0.6433576  0.63255585 0.46328188 0.54571571        nan        nan\n",
      "        nan        nan        nan        nan        nan        nan\n",
      " 0.49794342 0.26546703 0.32071776 0.13568388 0.34770127 0.44064123\n",
      " 0.53563969 0.54178664 0.64593254 0.51930808 0.58705022 0.61919959\n",
      " 0.67396454 0.51498658 0.54400931 0.30399872 0.70788316 0.64946845\n",
      " 0.61267769 0.62769873 0.68875442 0.45985044 0.50255215 0.40976288\n",
      "        nan        nan        nan        nan        nan        nan\n",
      "        nan        nan 0.56018706 0.23320854 0.44350953 0.49636355\n",
      " 0.38831826 0.54299932 0.47694259 0.36832034 0.52811872 0.63873835\n",
      " 0.63615555 0.58663259 0.54055932 0.57117885 0.50416873 0.57261488\n",
      " 0.75054702 0.78402559 0.8138506  0.74207464 0.80582378 0.72608319\n",
      " 0.80503424 0.72249457        nan        nan        nan        nan\n",
      "        nan        nan        nan        nan 0.7942503  0.65764974\n",
      " 0.7942503  0.68835164 0.7942503  0.63880479 0.7942503  0.66667282\n",
      " 0.81778826 0.76269303 0.81778826 0.76397834 0.80451715 0.66618719\n",
      " 0.80451715 0.69244456 0.69180454 0.67274843 0.65115158 0.67138694\n",
      " 0.41064681 0.61992996 0.48002366 0.55680392        nan        nan\n",
      "        nan        nan        nan        nan        nan        nan\n",
      " 0.54990796 0.29633295 0.33190531 0.32373623 0.57866693 0.49509211\n",
      " 0.32648764 0.30621093 0.69023297 0.38166869 0.77871955 0.54897498\n",
      " 0.56869606 0.54101573 0.51812555 0.5944103  0.69145473 0.63213991\n",
      " 0.60181144 0.57938447 0.65867244 0.62376377 0.57066988 0.50500148\n",
      "        nan        nan        nan        nan        nan        nan\n",
      "        nan        nan 0.37166535 0.62807435 0.3812281  0.41646204\n",
      " 0.32745623 0.36227287 0.58934219 0.34888641 0.73548138 0.46780607\n",
      " 0.60201056 0.37159184 0.5326641  0.59696402 0.42202183 0.63877909\n",
      " 0.75170085 0.7942419  0.8138506  0.75553912 0.80582378 0.74854213\n",
      " 0.80503424 0.7239842         nan        nan        nan        nan\n",
      "        nan        nan        nan        nan 0.7942503  0.7128725\n",
      " 0.7942503  0.69774741 0.7942503  0.70058819 0.7942503  0.67532649\n",
      " 0.81778826 0.77877015 0.81778826 0.75702509 0.80451715 0.71695908\n",
      " 0.80451715 0.70442388 0.62210044 0.64576863 0.74147714 0.67486297\n",
      " 0.5662374  0.6097052  0.62443342 0.44035758        nan        nan\n",
      "        nan        nan        nan        nan        nan        nan\n",
      " 0.34699631 0.33744809 0.46273398 0.10355978 0.41096695 0.42589546\n",
      " 0.39755331 0.54348737 0.62866022 0.53879794 0.59538377 0.54846154\n",
      " 0.41079883 0.55459316 0.47227294 0.53066732 0.66122588 0.71217636\n",
      " 0.65997765 0.58864988 0.59542908 0.56068317 0.43008509 0.57426505\n",
      "        nan        nan        nan        nan        nan        nan\n",
      "        nan        nan 0.33622449 0.37826502 0.38609046 0.33052233\n",
      " 0.21443252 0.19716826 0.37727338 0.34073091 0.5336892  0.46558319\n",
      " 0.63470242 0.4644504  0.26950219 0.59903333 0.57535413 0.51198328]\n",
      "  category=UserWarning,\n",
      "C:\\Users\\hp\\Anaconda3\\envs\\virtualml\\lib\\site-packages\\sklearn\\tree\\_classes.py:363: FutureWarning: Criterion 'mse' was deprecated in v1.0 and will be removed in version 1.2. Use `criterion='squared_error'` which is equivalent.\n",
      "  FutureWarning,\n"
     ]
    }
   ],
   "source": [
    "from sklearn.tree import DecisionTreeRegressor;\n",
    "\n",
    "from sklearn.model_selection import GridSearchCV;\n",
    "\n",
    "param_grid = {\"criterion\":[\"mse\",\"mae\"], \"splitter\":[\"best\", \"random\"], \n",
    "                       \"max_features\" :[\"auto\", \"sqrt\", \"log2\"],\n",
    "                  \"max_depth\":[None, 10, 50, 80], \"min_samples_split\":[10, 50, 80, 100],\n",
    "                  \"max_leaf_nodes\":[None, 1, 5, 10]}\n",
    "\n",
    "gridCV = GridSearchCV(DecisionTreeRegressor(), param_grid, refit = True, verbose = 3, n_jobs=-1); \n",
    "\n",
    "gridCV.fit(x_train, y_train);\n"
   ]
  },
  {
   "cell_type": "code",
   "execution_count": null,
   "id": "c6de5292",
   "metadata": {},
   "outputs": [],
   "source": [
    "#from sklearn.svm import SVR;\n",
    "\n",
    "#regressor = SVR(kernel = \"linear\", C = 10000);\n",
    "\n",
    "#regressor.fit(x_train, y_train);\n",
    "\n",
    "#regressor"
   ]
  },
  {
   "cell_type": "code",
   "execution_count": null,
   "id": "d9592800",
   "metadata": {},
   "outputs": [],
   "source": [
    "#weight = regressor.coef_;\n",
    "\n",
    "#weight"
   ]
  },
  {
   "cell_type": "code",
   "execution_count": null,
   "id": "c72f7d38",
   "metadata": {},
   "outputs": [],
   "source": [
    "#bias = regressor.intercept_;\n",
    "\n",
    "#bias"
   ]
  },
  {
   "cell_type": "code",
   "execution_count": 14,
   "id": "3a4bd4f6",
   "metadata": {},
   "outputs": [],
   "source": [
    "y_pred = gridCV.predict(x_test);"
   ]
  },
  {
   "cell_type": "code",
   "execution_count": null,
   "id": "8c96472a",
   "metadata": {},
   "outputs": [],
   "source": []
  },
  {
   "cell_type": "markdown",
   "id": "aed50546",
   "metadata": {},
   "source": [
    "# 1. Metric(R2_Score) \n",
    "\n",
    "## if the value of \"r\" nearly to 1 then that is \"Good performence\".\n",
    "\n",
    "## if the value of \"r\" nearly to 0 then that is \"Poor performence\".\n"
   ]
  },
  {
   "cell_type": "code",
   "execution_count": 15,
   "id": "72d86a07",
   "metadata": {},
   "outputs": [
    {
     "data": {
      "text/plain": [
       "0.8804696874315622"
      ]
     },
     "execution_count": 15,
     "metadata": {},
     "output_type": "execute_result"
    }
   ],
   "source": [
    "from sklearn.metrics import r2_score;\n",
    "\n",
    "metricDecisionTree_1 = r2_score(y_test, y_pred);\n",
    "\n",
    "metricDecisionTree_1"
   ]
  },
  {
   "cell_type": "markdown",
   "id": "7f47d469",
   "metadata": {},
   "source": [
    "# 2. Metric(explained_variance_score) \n",
    "\n",
    "## if the value of nearly to 1 then that is \"Good performence\".\n",
    "\n",
    "## if the value of nearly to 0 then that is \"Poor performence\"."
   ]
  },
  {
   "cell_type": "code",
   "execution_count": 16,
   "id": "75e06530",
   "metadata": {},
   "outputs": [
    {
     "data": {
      "text/plain": [
       "0.8809710605780151"
      ]
     },
     "execution_count": 16,
     "metadata": {},
     "output_type": "execute_result"
    }
   ],
   "source": [
    "from sklearn.metrics import explained_variance_score;\n",
    "\n",
    "metricDecisionTree_2 = explained_variance_score(y_test, y_pred);\n",
    "\n",
    "metricDecisionTree_2"
   ]
  },
  {
   "cell_type": "markdown",
   "id": "93230de0",
   "metadata": {},
   "source": [
    "# 3. Metric(max_error) \n",
    "\n",
    "## A positive floating point value (the best value is 0.0).\n"
   ]
  },
  {
   "cell_type": "code",
   "execution_count": 17,
   "id": "b3c6aa12",
   "metadata": {},
   "outputs": [
    {
     "data": {
      "text/plain": [
       "22393.056451775148"
      ]
     },
     "execution_count": 17,
     "metadata": {},
     "output_type": "execute_result"
    }
   ],
   "source": [
    "from sklearn.metrics import max_error;\n",
    "\n",
    "metricDecisionTree_3 = max_error(y_test, y_pred);\n",
    "\n",
    "metricDecisionTree_3"
   ]
  },
  {
   "cell_type": "markdown",
   "id": "a79bbda1",
   "metadata": {},
   "source": [
    "# 4. Metric(mean_absolute_error) \n",
    "\n",
    "## MAE output is non-negative floating point. The best value is 0.0.\n"
   ]
  },
  {
   "cell_type": "code",
   "execution_count": 18,
   "id": "6846829a",
   "metadata": {},
   "outputs": [
    {
     "data": {
      "text/plain": [
       "2635.9217387826175"
      ]
     },
     "execution_count": 18,
     "metadata": {},
     "output_type": "execute_result"
    }
   ],
   "source": [
    "from sklearn.metrics import mean_absolute_error;\n",
    "\n",
    "metricDecisionTree_4 = mean_absolute_error(y_test, y_pred);\n",
    "\n",
    "metricDecisionTree_4"
   ]
  },
  {
   "cell_type": "markdown",
   "id": "29cd75dd",
   "metadata": {},
   "source": [
    "# 5. Metric(mean_squared_error) \n",
    "\n",
    "## A non-negative floating point value (the best value is 0.0).\n"
   ]
  },
  {
   "cell_type": "code",
   "execution_count": 19,
   "id": "346ed5f9",
   "metadata": {},
   "outputs": [
    {
     "data": {
      "text/plain": [
       "19164916.65134844"
      ]
     },
     "execution_count": 19,
     "metadata": {},
     "output_type": "execute_result"
    }
   ],
   "source": [
    "from sklearn.metrics import mean_squared_error;\n",
    "\n",
    "metricDecisionTree_5 = mean_squared_error(y_test, y_pred);\n",
    "\n",
    "metricDecisionTree_5"
   ]
  },
  {
   "cell_type": "markdown",
   "id": "1fba4094",
   "metadata": {},
   "source": [
    "# 6. Metric(mean_squared_error) \n",
    "\n",
    "## A non-negative floating point value (the best value is 0.0).\n"
   ]
  },
  {
   "cell_type": "code",
   "execution_count": 20,
   "id": "ee52c052",
   "metadata": {},
   "outputs": [
    {
     "data": {
      "text/plain": [
       "19164916.65134844"
      ]
     },
     "execution_count": 20,
     "metadata": {},
     "output_type": "execute_result"
    }
   ],
   "source": [
    "from sklearn.metrics import mean_squared_error;\n",
    "\n",
    "metricDecisionTree_6 = mean_squared_error(y_test, y_pred);\n",
    "\n",
    "metricDecisionTree_6"
   ]
  },
  {
   "cell_type": "code",
   "execution_count": null,
   "id": "4918e3ae",
   "metadata": {},
   "outputs": [],
   "source": []
  },
  {
   "cell_type": "code",
   "execution_count": null,
   "id": "3ae4e183",
   "metadata": {},
   "outputs": [],
   "source": [
    "#from sklearn.metrics import mean_squared_log_error;\n",
    "\n",
    "#import math;\n",
    "\n",
    "#def root_mean_squared_log_error(y_test, y_pred):\n",
    "#    sum = 0.0\n",
    " #   for xValue in range(len(y_pred)):\n",
    " #       if y_pred[xValue]<0 or y_test[xValue]<0:\n",
    "   #         continue\n",
    "  #      predicted = np.log(y_pred[xValue]+1)\n",
    "  #      actual = np.log(y_test[xValue]+1)\n",
    "\n",
    "  #  return (sum/len(y_pred))**5\n",
    "\n",
    "\n",
    "\n",
    "\n",
    "#def normalize(x_test):\n",
    "  #  result = x_test.copy()\n",
    "   # for feature_name in x_test.columns:\n",
    "  #      max_value = x_test[feature_name].max()\n",
    "   #     min_value = x_test[feature_name].min()\n",
    "   #     result [feature_name] = (x_test[feature_name]-min_value) / (max_value-min_value)\n",
    "  #  return result\n",
    "\n",
    "\n",
    "\n",
    "\n",
    "\n",
    "\n"
   ]
  },
  {
   "cell_type": "markdown",
   "id": "4a82bc2f",
   "metadata": {},
   "source": [
    "# 7. Metric(median_absolute_error) \n",
    "\n",
    "## Median absolute error output is non-negative floating point. The best value is 0.0."
   ]
  },
  {
   "cell_type": "code",
   "execution_count": 21,
   "id": "0170ce9d",
   "metadata": {},
   "outputs": [
    {
     "data": {
      "text/plain": [
       "1788.6346182248494"
      ]
     },
     "execution_count": 21,
     "metadata": {},
     "output_type": "execute_result"
    }
   ],
   "source": [
    "from sklearn.metrics import median_absolute_error;\n",
    "\n",
    "metricDecisionTree_7 = median_absolute_error(y_test, y_pred);\n",
    "\n",
    "metricDecisionTree_7"
   ]
  },
  {
   "cell_type": "markdown",
   "id": "f5e0ba31",
   "metadata": {},
   "source": [
    "# 8. Metric(mean_squared_log_error) \n",
    "\n",
    "## A non-negative floating point value (the best value is 0.0)."
   ]
  },
  {
   "cell_type": "code",
   "execution_count": 22,
   "id": "afd67a77",
   "metadata": {},
   "outputs": [
    {
     "data": {
      "text/plain": [
       "0.2049868716074138"
      ]
     },
     "execution_count": 22,
     "metadata": {},
     "output_type": "execute_result"
    }
   ],
   "source": [
    "from sklearn.metrics import mean_squared_log_error;\n",
    "\n",
    "metricDecisionTree_8 = mean_squared_log_error(y_test, y_pred);\n",
    "\n",
    "metricDecisionTree_8\n"
   ]
  },
  {
   "cell_type": "markdown",
   "id": "888b8c6a",
   "metadata": {},
   "source": [
    "# 9. Metric(mean_poisson_deviance) \n",
    "\n",
    "## A non-negative floating point value (the best value is 0.0)."
   ]
  },
  {
   "cell_type": "code",
   "execution_count": 23,
   "id": "5f453f10",
   "metadata": {},
   "outputs": [
    {
     "data": {
      "text/plain": [
       "1863.2615922255911"
      ]
     },
     "execution_count": 23,
     "metadata": {},
     "output_type": "execute_result"
    }
   ],
   "source": [
    "from sklearn.metrics import mean_poisson_deviance\n",
    "\n",
    "metricDecisionTree_9 = mean_poisson_deviance(y_test, y_pred)\n",
    "\n",
    "metricDecisionTree_9"
   ]
  },
  {
   "cell_type": "markdown",
   "id": "ec2fa684",
   "metadata": {},
   "source": [
    "# 10. Metric(mean_gamma_deviance) \n",
    "\n",
    "## A non-negative floating point value (the best value is 0.0)."
   ]
  },
  {
   "cell_type": "code",
   "execution_count": 24,
   "id": "780a9be3",
   "metadata": {},
   "outputs": [
    {
     "data": {
      "text/plain": [
       "0.2684852695346714"
      ]
     },
     "execution_count": 24,
     "metadata": {},
     "output_type": "execute_result"
    }
   ],
   "source": [
    "from sklearn.metrics import mean_gamma_deviance;\n",
    "\n",
    "metricDecisionTree_10 = mean_gamma_deviance(y_test, y_pred);\n",
    "\n",
    "metricDecisionTree_10\n"
   ]
  },
  {
   "cell_type": "markdown",
   "id": "50e5e040",
   "metadata": {},
   "source": [
    "# 11. Metric(mean_absolute_percentage_error) \n",
    "\n",
    "## MAPE output is non-negative floating point. The best value is 0.0."
   ]
  },
  {
   "cell_type": "code",
   "execution_count": 25,
   "id": "9becf6e3",
   "metadata": {},
   "outputs": [
    {
     "data": {
      "text/plain": [
       "0.32839704223321237"
      ]
     },
     "execution_count": 25,
     "metadata": {},
     "output_type": "execute_result"
    }
   ],
   "source": [
    "from sklearn.metrics import mean_absolute_percentage_error;\n",
    "\n",
    "metricDecisionTree_11 = mean_absolute_percentage_error(y_test, y_pred);\n",
    "\n",
    "metricDecisionTree_11"
   ]
  },
  {
   "cell_type": "markdown",
   "id": "6685ff4b",
   "metadata": {},
   "source": [
    "# 12. Metric(mean_tweedie_deviance - power: 1) \n",
    "\n",
    "## A non-negative floating point value (the best value is 0.0)."
   ]
  },
  {
   "cell_type": "code",
   "execution_count": 26,
   "id": "6c950f9e",
   "metadata": {},
   "outputs": [
    {
     "data": {
      "text/plain": [
       "1863.2615922255911"
      ]
     },
     "execution_count": 26,
     "metadata": {},
     "output_type": "execute_result"
    }
   ],
   "source": [
    "from sklearn.metrics import mean_tweedie_deviance;\n",
    "\n",
    "metricDecisionTree_12 = mean_tweedie_deviance(y_test, y_pred, power = 1);\n",
    "\n",
    "metricDecisionTree_12"
   ]
  },
  {
   "cell_type": "markdown",
   "id": "67b64ff6",
   "metadata": {},
   "source": [
    "# 13. Metric(mean_tweedie_deviance - power: 2) \n",
    "\n",
    "## A non-negative floating point value (the best value is 0.0)."
   ]
  },
  {
   "cell_type": "code",
   "execution_count": 27,
   "id": "6ef4ea71",
   "metadata": {},
   "outputs": [
    {
     "data": {
      "text/plain": [
       "0.2684852695346714"
      ]
     },
     "execution_count": 27,
     "metadata": {},
     "output_type": "execute_result"
    }
   ],
   "source": [
    "from sklearn.metrics import mean_tweedie_deviance;\n",
    "\n",
    "metricDecisionTree_13 = mean_tweedie_deviance(y_test, y_pred, power = 2);\n",
    "\n",
    "metricDecisionTree_13"
   ]
  },
  {
   "cell_type": "markdown",
   "id": "ecdedf58",
   "metadata": {},
   "source": [
    "# 14. Metric(mean_tweedie_deviance - power: 0) \n",
    "\n",
    "## A non-negative floating point value (the best value is 0.0)."
   ]
  },
  {
   "cell_type": "code",
   "execution_count": 28,
   "id": "11931a29",
   "metadata": {},
   "outputs": [
    {
     "data": {
      "text/plain": [
       "19164916.65134844"
      ]
     },
     "execution_count": 28,
     "metadata": {},
     "output_type": "execute_result"
    }
   ],
   "source": [
    "from sklearn.metrics import mean_tweedie_deviance;\n",
    "\n",
    "metricDecisionTree_14 = mean_tweedie_deviance(y_test, y_pred, power = 0);\n",
    "\n",
    "metricDecisionTree_14"
   ]
  }
 ],
 "metadata": {
  "kernelspec": {
   "display_name": "Python 3 (ipykernel)",
   "language": "python",
   "name": "python3"
  },
  "language_info": {
   "codemirror_mode": {
    "name": "ipython",
    "version": 3
   },
   "file_extension": ".py",
   "mimetype": "text/x-python",
   "name": "python",
   "nbconvert_exporter": "python",
   "pygments_lexer": "ipython3",
   "version": "3.7.6"
  }
 },
 "nbformat": 4,
 "nbformat_minor": 5
}
